{
 "cells": [
  {
   "cell_type": "markdown",
   "metadata": {},
   "source": [
    "# Задание №1. Анализ спутниковых данных о солнечной радиации на верхней границе атмосферы"
   ]
  },
  {
   "cell_type": "markdown",
   "metadata": {},
   "source": [
    "### Исходные данные\n",
    "Прибор SORCE Total Irradiance Monitor измеряет интегральную солнечную радиацию (TSI), меру абсолютной интенсивности солнечного излучения, интегрированного по всему солнечному диску и всему солнечному спектру. Продукт \"TSI Level 3 SORCE\" представляет собой среднесуточные значения интенсивности излучения, представленные как при среднем солнечном расстоянии, равном 1 астрономической единице (1 а.е.), так и на истинном расстоянии от Земли до Солнца. Эти данные, соответственно, отображают изменчивость испускаемого солнечного излучения (полезно для исследований Солнца) и поступление солнечной энергии в верхнюю границуь атмосферы Земли (полезно для исследований климата Земли).\n",
    "\n",
    "Источник данных: http://lasp.colorado.edu/data/sorce/tsi_data/daily/sorce_tsi_L3_c24h_latest.txt\n",
    "\n",
    "### Порядок выполнения работы\n",
    "Выполните последовательно пункты а), б), в). Только после этого приступайте к выполнению пунктов г) и д)."
   ]
  },
  {
   "cell_type": "markdown",
   "metadata": {},
   "source": [
    "#### а) Загрузите данные о солнечной радиации на верхней границе атмосферы (TSI)"
   ]
  },
  {
   "cell_type": "code",
   "execution_count": null,
   "metadata": {},
   "outputs": [],
   "source": [
    "# Подключение библиотек\n",
    "import pandas as pd\n",
    "import seaborn as sns\n",
    "import matplotlib.pyplot as plt\n",
    "\n",
    "# Загрузка данных\n",
    "df = pd.read_csv(\"tsi.csv\", parse_dates=[\"date\"])\n",
    "\n",
    "# Отображение таблицы с данными\n",
    "df"
   ]
  },
  {
   "cell_type": "markdown",
   "metadata": {},
   "source": [
    "Обратите внимание, что в таблице присутствуют три столбца с данными: дата, солнечная радиация при среднем расстоянии между Солнцем и Землей (1 а.е.), солнечная радиация при реальном расстоянии между Солнцем и Землей"
   ]
  },
  {
   "cell_type": "markdown",
   "metadata": {},
   "source": [
    "#### б) Постройте график со значениями солнечной радиации на верхней границе атмосферы (TSI) при среднем расстоянии между Солнцем и Землей (1 а.е.)"
   ]
  },
  {
   "cell_type": "code",
   "execution_count": null,
   "metadata": {},
   "outputs": [],
   "source": [
    "# Построение графика\n",
    "sns.set(font_scale=1.4, style=\"darkgrid\", rc={\"figure.figsize\":(11.7,8.27)})\n",
    "sns.lineplot(x=df[\"date\"], y=df[\"tsi_1au\"], color=\"red\")\n",
    "plt.title(\"Интегральная солнечная радиация на верхней границе атмосферы\")\n",
    "plt.xlabel(\"Время\")\n",
    "plt.ylabel(\"S0 (Вт/м²)\")\n",
    "plt.show()"
   ]
  },
  {
   "cell_type": "markdown",
   "metadata": {},
   "source": [
    "#### в) Вычислите минимальное, среднее и максимальное значения солнечной радиации на верхней границе атмосферы (TSI) при среднем расстоянии между Солнцем и Землей (1 а.е.)"
   ]
  },
  {
   "cell_type": "code",
   "execution_count": null,
   "metadata": {},
   "outputs": [],
   "source": [
    "# Calc Minimal, Mean, and Maximal Values of TSI at Distance of 1 au\n",
    "minTSI = df[\"tsi_1au\"].min()\n",
    "meanTSI = df[\"tsi_1au\"].mean()\n",
    "maxTSI = df[\"tsi_1au\"].max()\n",
    "\n",
    "# Отображение минимального, среднего и максимального значений TSI at 1 au\n",
    "print(\"Минимальное TSI:\\t%.1f Вт/м²\" % minTSI)\n",
    "print(\"Среднее TSI:\\t\\t%.1f Вт/м²\" % meanTSI)\n",
    "print(\"Максимальное TSI:\\t%.1f Вт/м²\" % maxTSI)"
   ]
  },
  {
   "cell_type": "markdown",
   "metadata": {},
   "source": [
    "#### г) Постройте график с реальными значениями солнечной радиации на верхней границе атмосферы (TSI)"
   ]
  },
  {
   "cell_type": "code",
   "execution_count": null,
   "metadata": {},
   "outputs": [],
   "source": [
    "# Напишите здась код..."
   ]
  },
  {
   "cell_type": "markdown",
   "metadata": {},
   "source": [
    "#### д) Вычислите минимальное, среднее и максимальное значения реальных значений солнечной радиации на верхней границе атмосферы (TSI)"
   ]
  },
  {
   "cell_type": "code",
   "execution_count": null,
   "metadata": {},
   "outputs": [],
   "source": [
    "# Напишите здась код..."
   ]
  }
 ],
 "metadata": {
  "kernelspec": {
   "display_name": "Python 3",
   "language": "python",
   "name": "python3"
  },
  "language_info": {
   "codemirror_mode": {
    "name": "ipython",
    "version": 3
   },
   "file_extension": ".py",
   "mimetype": "text/x-python",
   "name": "python",
   "nbconvert_exporter": "python",
   "pygments_lexer": "ipython3",
   "version": "3.7.3"
  }
 },
 "nbformat": 4,
 "nbformat_minor": 4
}
