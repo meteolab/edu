{
 "cells": [
  {
   "cell_type": "markdown",
   "metadata": {},
   "source": [
    "## Задание №3. Анализ актинометрических данных"
   ]
  },
  {
   "cell_type": "code",
   "execution_count": null,
   "metadata": {},
   "outputs": [],
   "source": [
    "# Import libraries\n",
    "import pandas as pd\n",
    "import seaborn as sns\n",
    "import matplotlib.pyplot as plt\n",
    "\n",
    "# Write your channel name\n",
    "channel = \"0ddd8e353faf1f61207f27dceb8f01084c39b22ead4b45e691a44691b6b2c942\"\n",
    "#channel = \"8444bac7aa2ec28e6f0a80aa823f72724eeec9944165979a29f09014a6766da2\"\n",
    "\n",
    "# Download data\n",
    "df = pd.read_csv(\"https://meteolab.ru/api/solar/data/%s\"%(channel), parse_dates=[\"date\"])\n",
    "\n",
    "# Show data\n",
    "df.head()"
   ]
  },
  {
   "cell_type": "code",
   "execution_count": null,
   "metadata": {},
   "outputs": [],
   "source": [
    "# Plot data\n",
    "sns.set(font_scale=1.4, style=\"darkgrid\", rc={\"figure.figsize\":(11.7,8.27)})\n",
    "sns.lineplot(x=df[\"date\"].values, y=df[\"solaraltitude\"])\n",
    "plt.xlabel(\"Date\")\n",
    "plt.ylabel(\"Solar Radiation (W/m²)\")\n",
    "plt.xticks(rotation=45)\n",
    "plt.margins(0.2)\n",
    "plt.show()"
   ]
  },
  {
   "cell_type": "code",
   "execution_count": null,
   "metadata": {},
   "outputs": [],
   "source": []
  }
 ],
 "metadata": {
  "kernelspec": {
   "display_name": "Python 3",
   "language": "python",
   "name": "python3"
  },
  "language_info": {
   "codemirror_mode": {
    "name": "ipython",
    "version": 3
   },
   "file_extension": ".py",
   "mimetype": "text/x-python",
   "name": "python",
   "nbconvert_exporter": "python",
   "pygments_lexer": "ipython3",
   "version": "3.7.3"
  }
 },
 "nbformat": 4,
 "nbformat_minor": 4
}
