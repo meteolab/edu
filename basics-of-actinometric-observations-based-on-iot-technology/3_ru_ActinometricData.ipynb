{
 "cells": [
  {
   "cell_type": "markdown",
   "metadata": {},
   "source": [
    "## Задание №3. Анализ актинометрических данных"
   ]
  },
  {
   "cell_type": "markdown",
   "metadata": {},
   "source": [
    "<img src=\"https://meteolab.org/assets/downloads/globe.png\" width=\"70%\">\n",
    "\n",
    "### Исходные данные\n",
    "Функция Data сервиса Solar API предназначена для получения данных измерений актинометрических данных, выполненных с помощью веб-приложения MeteoLab. Для чтения данных с сервера необходимо указать уникальный номер канала.\n",
    "\n",
    "### Порядок выполнения работы"
   ]
  },
  {
   "cell_type": "markdown",
   "metadata": {},
   "source": [
    "а) Загрузка данных измерений из вашего канала данных"
   ]
  },
  {
   "cell_type": "code",
   "execution_count": null,
   "metadata": {},
   "outputs": [],
   "source": [
    "# Подключение библиотек\n",
    "import pandas as pd\n",
    "import seaborn as sns\n",
    "import matplotlib.pyplot as plt\n",
    "\n",
    "# Номер канала данных\n",
    "channel = \"0ddd8e353faf1f61207f27dceb8f01084c39b22ead4b45e691a44691b6b2c942\"\n",
    "\n",
    "# Загрузка данных\n",
    "df = pd.read_csv(\"https://meteolab.org/api/solar/data/%s\"%(channel), parse_dates=[\"date\"])\n",
    "\n",
    "# Отображение таблицы с данными\n",
    "df"
   ]
  },
  {
   "cell_type": "markdown",
   "metadata": {},
   "source": [
    "б) Построение графика зависимости суммарной солнечной радиации от времени"
   ]
  },
  {
   "cell_type": "code",
   "execution_count": null,
   "metadata": {},
   "outputs": [],
   "source": [
    "# Построение графика\n",
    "sns.set(font_scale=1.4, style=\"darkgrid\", rc={\"figure.figsize\":(11.7,8.27)})\n",
    "sns.lineplot(x=df[\"date\"].values, y=df[\"totalradiation\"])\n",
    "plt.xlabel(\"Время\")\n",
    "plt.ylabel(\"Суммарная солнечная радиация (Вт/м²)\")\n",
    "plt.xticks(rotation=45)\n",
    "plt.margins(0.2)\n",
    "plt.show()\n",
    "plt.close()"
   ]
  },
  {
   "cell_type": "markdown",
   "metadata": {},
   "source": [
    "в) Построение графика зависимости суммарной, прямой и рассеянной солнечной радиации от времени"
   ]
  },
  {
   "cell_type": "code",
   "execution_count": null,
   "metadata": {},
   "outputs": [],
   "source": [
    "# Построение графика\n",
    "sns.set(font_scale=1.4, style=\"darkgrid\", rc={\"figure.figsize\":(11.7,8.27)})\n",
    "sns.lineplot(x=df[\"date\"].values, y=df[\"totalradiation\"])\n",
    "sns.lineplot(x=df[\"date\"].values, y=df[\"directradiation\"])\n",
    "sns.lineplot(x=df[\"date\"].values, y=df[\"diffuseradiation\"])\n",
    "plt.xlabel(\"Время\")\n",
    "plt.ylabel(\"Поток солнечной радиации (Вт/м²)\")\n",
    "plt.xticks(rotation=45)\n",
    "plt.margins(0.2)\n",
    "plt.show()\n",
    "plt.close()"
   ]
  },
  {
   "cell_type": "markdown",
   "metadata": {},
   "source": [
    "г) Определение максимального и минимального значений потоков солнечной радиации, а также соответствующих им моментов времени"
   ]
  },
  {
   "cell_type": "code",
   "execution_count": null,
   "metadata": {},
   "outputs": [],
   "source": [
    "# Напишите ваш код здесь..."
   ]
  },
  {
   "cell_type": "markdown",
   "metadata": {},
   "source": [
    "д) Построение графика зависимости суммарной, прямой и рассеянной солнечной радиации от высоты Солнца"
   ]
  },
  {
   "cell_type": "code",
   "execution_count": null,
   "metadata": {},
   "outputs": [],
   "source": [
    "# Напишите ваш код здесь..."
   ]
  },
  {
   "cell_type": "markdown",
   "metadata": {},
   "source": [
    "### Выводы"
   ]
  },
  {
   "cell_type": "markdown",
   "metadata": {},
   "source": [
    "Сделайте выводы относительно:<br />\n",
    "1. моментов времени, когда достигается максимальный поток прямой, рассеянной и суммарной солнечной радиации<br />\n",
    "2. зависимости потоков солнечной радиации от высоты Солнца<br />"
   ]
  },
  {
   "cell_type": "markdown",
   "metadata": {},
   "source": [
    "<i>Напишите здесь ваши ответы</i>..."
   ]
  }
 ],
 "metadata": {
  "kernelspec": {
   "display_name": "Python 3",
   "language": "python",
   "name": "python3"
  },
  "language_info": {
   "codemirror_mode": {
    "name": "ipython",
    "version": 3
   },
   "file_extension": ".py",
   "mimetype": "text/x-python",
   "name": "python",
   "nbconvert_exporter": "python",
   "pygments_lexer": "ipython3",
   "version": "3.7.3"
  }
 },
 "nbformat": 4,
 "nbformat_minor": 4
}
