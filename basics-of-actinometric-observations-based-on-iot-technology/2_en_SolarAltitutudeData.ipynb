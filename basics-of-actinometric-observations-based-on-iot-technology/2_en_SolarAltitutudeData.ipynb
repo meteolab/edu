{
 "cells": [
  {
   "cell_type": "markdown",
   "metadata": {},
   "source": [
    "# Task #2. Solar Altitude Data Analysis"
   ]
  },
  {
   "cell_type": "code",
   "execution_count": null,
   "metadata": {},
   "outputs": [],
   "source": [
    "# Import libraries\n",
    "import pandas as pd\n",
    "import seaborn as sns\n",
    "import matplotlib.pyplot as plt\n",
    "\n",
    "# Set coordinates of the point of interest (degrees)\n",
    "lat = 60.0\n",
    "lon = 30.0\n",
    "\n",
    "# Set date\n",
    "year = 2020\n",
    "month = 7\n",
    "day = 28\n",
    "\n",
    "# Download data\n",
    "df = pd.read_csv(\"https://meteolab.ru/api/solar/diurnalcycle/%f/%f/%d/%d/%d\"%(lat,lon,year,month,day), parse_dates=[\"date\"])\n",
    "\n",
    "# Show data\n",
    "df"
   ]
  },
  {
   "cell_type": "code",
   "execution_count": null,
   "metadata": {},
   "outputs": [],
   "source": [
    "# Plot data\n",
    "sns.set(font_scale=1.4, style=\"darkgrid\", rc={\"figure.figsize\":(11.7,8.27)})\n",
    "sns.lineplot(x=df[\"solartime\"], y=df[\"solaraltitude\"])\n",
    "plt.title(\"Diurnal Solar Altitude Cycle\")\n",
    "plt.show()"
   ]
  },
  {
   "cell_type": "code",
   "execution_count": null,
   "metadata": {},
   "outputs": [],
   "source": [
    "# Write here the code to get maximal solar altitude\n",
    "maxSA = df[\"solaraltitude\"].max()\n",
    "print(maxSA)"
   ]
  },
  {
   "cell_type": "code",
   "execution_count": null,
   "metadata": {},
   "outputs": [],
   "source": []
  }
 ],
 "metadata": {
  "kernelspec": {
   "display_name": "Python 3",
   "language": "python",
   "name": "python3"
  },
  "language_info": {
   "codemirror_mode": {
    "name": "ipython",
    "version": 3
   },
   "file_extension": ".py",
   "mimetype": "text/x-python",
   "name": "python",
   "nbconvert_exporter": "python",
   "pygments_lexer": "ipython3",
   "version": "3.7.3"
  }
 },
 "nbformat": 4,
 "nbformat_minor": 4
}
