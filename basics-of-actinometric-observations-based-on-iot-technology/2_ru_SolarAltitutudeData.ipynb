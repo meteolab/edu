{
 "cells": [
  {
   "cell_type": "markdown",
   "metadata": {},
   "source": [
    "## Задание №2. Анализ данных о высоте Солнца над горизонтом"
   ]
  },
  {
   "cell_type": "markdown",
   "metadata": {},
   "source": [
    "<img src=\"https://meteolab.org/assets/downloads/globe.png\" width=\"70%\">\n",
    "\n",
    "### Исходные данные\n",
    "Функция DiurnalCycle сервиса Solar API предназначена для получения данных о параметрах движения Земли вокруг Солнца для указанных координат места на земной поверхности и даты. Данные предоставляются от 00:00 до 23:59 UTC с шагом в 1 минуту.\n",
    "\n",
    "### Порядок выполнения работы"
   ]
  },
  {
   "cell_type": "markdown",
   "metadata": {},
   "source": [
    "а) Для получения данных о высоте Солнца над горизонтом укажите координаты вашего местоположения (широта и долгота места), а также дату (год, месяц, день)"
   ]
  },
  {
   "cell_type": "code",
   "execution_count": null,
   "metadata": {},
   "outputs": [],
   "source": [
    "# Подключение библиотек\n",
    "import pandas as pd\n",
    "import numpy as np\n",
    "import seaborn as sns\n",
    "import matplotlib.pyplot as plt\n",
    "\n",
    "# Широта и долгота пункта\n",
    "lat = 60.0\n",
    "lon = 30.0\n",
    "\n",
    "# Год, месяц и день\n",
    "year = 2020\n",
    "month = 7\n",
    "day = 17\n",
    "\n",
    "# Загрузка данных с сервера\n",
    "df = pd.read_csv(\"https://meteolab.org/api/solar/diurnalcycle/%f/%f/%d/%d/%d\"%(lat,lon,year,month,day), parse_dates=[\"date\"])\n",
    "\n",
    "# Отображение данных\n",
    "df"
   ]
  },
  {
   "cell_type": "markdown",
   "metadata": {},
   "source": [
    "б) Постройте график суточного хода высоты Солнца для выбранного пункта"
   ]
  },
  {
   "cell_type": "code",
   "execution_count": null,
   "metadata": {},
   "outputs": [],
   "source": [
    "# Построение графика\n",
    "sns.set(font_scale=1.4, style=\"darkgrid\", rc={\"figure.figsize\":(11.7,8.27)})\n",
    "sns.lineplot(x=df[\"date\"].values, y=df[\"solaraltitude\"])\n",
    "plt.title(\"Суточный ход высоты Солнца\")\n",
    "plt.xlabel(\"Время, UTC\")\n",
    "plt.ylabel(\"Высота Солнца, градусы\")\n",
    "plt.xticks(rotation=45)\n",
    "plt.margins(0.2)\n",
    "plt.show()"
   ]
  },
  {
   "cell_type": "markdown",
   "metadata": {},
   "source": [
    "в) Определите высоту Солнца в момент истинного полдня (максимальную высоту Солнца). Для этого выделите одну строку таблицы, содержащей максимальное значение высоты Солнца:"
   ]
  },
  {
   "cell_type": "code",
   "execution_count": null,
   "metadata": {},
   "outputs": [],
   "source": [
    "# Скопируйте из датафрейма одну запись, для которой выполняется условие\n",
    "row = df[ df[\"solaraltitude\"]==df[\"solaraltitude\"].max() ]\n",
    "\n",
    "row"
   ]
  },
  {
   "cell_type": "markdown",
   "metadata": {},
   "source": [
    "Затем используйте данные из столбца \"solaraltitude\" датафрейма \"row\", чтобы вывести максимальное значение высоты Солнца"
   ]
  },
  {
   "cell_type": "code",
   "execution_count": null,
   "metadata": {},
   "outputs": [],
   "source": [
    "# Вывод значения максимальной высоты Солнца\n",
    "print(\"%.1f°\" % row[\"solaraltitude\"])"
   ]
  },
  {
   "cell_type": "markdown",
   "metadata": {},
   "source": [
    "Также выведите значение сколонения Солнца в полдень"
   ]
  },
  {
   "cell_type": "code",
   "execution_count": null,
   "metadata": {},
   "outputs": [],
   "source": [
    "# Вывод значения склонения Солнца\n",
    "delta = row[\"solardeclination\"]\n",
    "print(\"%.1f°\" % delta)"
   ]
  },
  {
   "cell_type": "markdown",
   "metadata": {},
   "source": [
    "г) Проверьте полученное значение высоты. Для этого вычислите максимальную высоту Солнца по формуле:<br /><br />\n",
    "\\begin{align}\n",
    "{h_{max}} & = 90 - \\phi + \\delta \\\\\n",
    "\\end{align}\n",
    "где<br />\n",
    "$\\phi$ - широта места, градусы<br />\n",
    "$\\delta$ - склонение Солнца в истинный полдень, градусы<br />"
   ]
  },
  {
   "cell_type": "code",
   "execution_count": null,
   "metadata": {},
   "outputs": [],
   "source": [
    "# Напишите здесь код hmax =... с использованием переменных lat и delta\n",
    "hmax = \n",
    "print(\"%.1f°\" % hmax)"
   ]
  },
  {
   "cell_type": "markdown",
   "metadata": {},
   "source": [
    "Значения максимальной высоты Солнца совпадают? Отлично, они должны совпадать."
   ]
  },
  {
   "cell_type": "markdown",
   "metadata": {},
   "source": [
    "д) Определите момент времени, соответствующий максимальной высоте Солнца"
   ]
  },
  {
   "cell_type": "code",
   "execution_count": null,
   "metadata": {},
   "outputs": [],
   "source": [
    "# Вывод значения истинного времени достижения максимальной высоты Солнца из столбца \"solartime\" датафрейма \"row\"\n",
    "# Напишите здесь код..."
   ]
  },
  {
   "cell_type": "markdown",
   "metadata": {},
   "source": [
    "е) Подумайте, как герои книги Жуля Верна \"Таинственный остров\" смогли определить широту места острова по наблюдениям за Солнцем? Какие параметры из формулы выше должны быть известны для ее вычисления?<br />\n",
    "<img src=\"https://meteolab.org/assets/downloads/sextant.gif\"><br />Кстати, как называется этот прибор и для чего он служит?"
   ]
  },
  {
   "cell_type": "markdown",
   "metadata": {},
   "source": [
    "### Выводы"
   ]
  },
  {
   "cell_type": "markdown",
   "metadata": {},
   "source": [
    "Сделайте выводы относительно:<br />\n",
    "1. момента времени, когда достигается максимальный поток солнечной радиации при условии безоблачной атмосферы<br />\n",
    "2. зависимости склонения Солнца от широты и долготы места (зависит / не зависит)<br />"
   ]
  },
  {
   "cell_type": "markdown",
   "metadata": {},
   "source": [
    "<i>Напишите здесь ваши ответы</i>..."
   ]
  }
 ],
 "metadata": {
  "kernelspec": {
   "display_name": "Python 3",
   "language": "python",
   "name": "python3"
  },
  "language_info": {
   "codemirror_mode": {
    "name": "ipython",
    "version": 3
   },
   "file_extension": ".py",
   "mimetype": "text/x-python",
   "name": "python",
   "nbconvert_exporter": "python",
   "pygments_lexer": "ipython3",
   "version": "3.7.3"
  }
 },
 "nbformat": 4,
 "nbformat_minor": 4
}
