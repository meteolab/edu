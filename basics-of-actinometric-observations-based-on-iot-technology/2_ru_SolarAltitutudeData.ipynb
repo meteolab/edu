{
 "cells": [
  {
   "cell_type": "markdown",
   "metadata": {},
   "source": [
    "## Задание №2. Анализ данных о высоте Солнца над горизонтом"
   ]
  },
  {
   "cell_type": "markdown",
   "metadata": {},
   "source": [
    "<img src=\"http://dev.meteolab.ru/assets/images/globe.png\" width=\"70%\">"
   ]
  },
  {
   "cell_type": "markdown",
   "metadata": {},
   "source": [
    "а) Для получения данных о высоте Солнца над горизонтом укажите координаты вашего местоположения (широта и долгота места), а также дату (год, месяц, день)"
   ]
  },
  {
   "cell_type": "code",
   "execution_count": null,
   "metadata": {},
   "outputs": [],
   "source": [
    "# Подключение библиотек\n",
    "import pandas as pd\n",
    "import seaborn as sns\n",
    "import matplotlib.pyplot as plt\n",
    "\n",
    "# Широта и долгота пункта\n",
    "lat = 60.0\n",
    "lon = 30.0\n",
    "\n",
    "# Год, месяц и день\n",
    "year = 2020\n",
    "month = 7\n",
    "day = 17\n",
    "\n",
    "# Загрузка данных с сервера\n",
    "df = pd.read_csv(\"https://meteolab.ru/api/solar/diurnalcycle/%f/%f/%d/%d/%d\"%(lat,lon,year,month,day), parse_dates=[\"date\"])\n",
    "\n",
    "# Отображение данных\n",
    "df"
   ]
  },
  {
   "cell_type": "markdown",
   "metadata": {},
   "source": [
    "б) Постройте график суточного хода высоты Солнца для выбранного пункта"
   ]
  },
  {
   "cell_type": "code",
   "execution_count": null,
   "metadata": {},
   "outputs": [],
   "source": [
    "# Построение графика\n",
    "sns.set(font_scale=1.4, style=\"darkgrid\", rc={\"figure.figsize\":(11.7,8.27)})\n",
    "sns.lineplot(x=df[\"date\"].values, y=df[\"solaraltitude\"])\n",
    "plt.title(\"Суточный ход высоты Солнца\")\n",
    "plt.xlabel(\"Время, UTC\")\n",
    "plt.ylabel(\"Высота Солнца, градусы\")\n",
    "plt.xticks(rotation=45)\n",
    "plt.margins(0.2)\n",
    "plt.show()"
   ]
  },
  {
   "cell_type": "markdown",
   "metadata": {},
   "source": [
    "в) Определите высоту Солнца в момент истинного полдня (максимальную высоту Солнца):"
   ]
  },
  {
   "cell_type": "code",
   "execution_count": null,
   "metadata": {},
   "outputs": [],
   "source": [
    "# Вычисление максимальной высоты Солнца\n",
    "maxSA = df[\"solaraltitude\"].max()\n",
    "print(\"%.1f°\" % maxSA)"
   ]
  },
  {
   "cell_type": "markdown",
   "metadata": {},
   "source": [
    "г) Определите моменты времени, соответствующие восходу Солнца:"
   ]
  },
  {
   "cell_type": "code",
   "execution_count": null,
   "metadata": {},
   "outputs": [],
   "source": [
    "# Напишите тут код..."
   ]
  },
  {
   "cell_type": "markdown",
   "metadata": {},
   "source": [
    "истинному полдню:"
   ]
  },
  {
   "cell_type": "code",
   "execution_count": null,
   "metadata": {},
   "outputs": [],
   "source": [
    "# Напишите тут код..."
   ]
  },
  {
   "cell_type": "markdown",
   "metadata": {},
   "source": [
    "заходу Солнца:"
   ]
  },
  {
   "cell_type": "code",
   "execution_count": null,
   "metadata": {},
   "outputs": [],
   "source": [
    "# Напишите тут код..."
   ]
  },
  {
   "cell_type": "markdown",
   "metadata": {},
   "source": [
    "### Выводы"
   ]
  },
  {
   "cell_type": "markdown",
   "metadata": {},
   "source": [
    "Сделайте выводы относительно продолжительности светового дня и моменту времени, когда достигается максимальный поток солнечной радиации при условии безоблачной атмосферы:"
   ]
  },
  {
   "cell_type": "markdown",
   "metadata": {},
   "source": [
    "..."
   ]
  }
 ],
 "metadata": {
  "kernelspec": {
   "display_name": "Python 3",
   "language": "python",
   "name": "python3"
  },
  "language_info": {
   "codemirror_mode": {
    "name": "ipython",
    "version": 3
   },
   "file_extension": ".py",
   "mimetype": "text/x-python",
   "name": "python",
   "nbconvert_exporter": "python",
   "pygments_lexer": "ipython3",
   "version": "3.7.3"
  }
 },
 "nbformat": 4,
 "nbformat_minor": 4
}
