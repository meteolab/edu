{
 "cells": [
  {
   "cell_type": "markdown",
   "metadata": {},
   "source": [
    "# Task #1. Total Solar Irradiance Data Analysis"
   ]
  },
  {
   "cell_type": "markdown",
   "metadata": {},
   "source": [
    "### Data Source\n",
    "The SORCE Total Irradiance Monitor (TIM) measures the total solar irradiance (TSI), a measure of the absolute intensity of solar radiation integrated over the entire solar disk and the entire solar spectrum. The SORCE Level 3 TSI data product is the daily mean irradiances, reported at both a mean solar distance of 1 astronomical unit (AU) and at the true Earth-to-Sun distance of date, and zero relative line-of-sight velocity with respect to the Sun. This product respectively indicates emitted solar radiation variability (useful for solar studies) and the solar energy input to the top of the Earth's atmosphere (useful for Earth climate studies).\n",
    "\n",
    "Source: http://lasp.colorado.edu/data/sorce/tsi_data/daily/sorce_tsi_L3_c24h_latest.txt\n",
    "\n",
    "### Order of the task\n",
    "Follow steps a), b), c) in sequence. Then complete the steps d), and e)."
   ]
  },
  {
   "cell_type": "markdown",
   "metadata": {},
   "source": [
    "## a) Load Total Solar Irradiance Data"
   ]
  },
  {
   "cell_type": "code",
   "execution_count": 7,
   "metadata": {},
   "outputs": [
    {
     "name": "stdout",
     "output_type": "stream",
     "text": [
      "Requirement already satisfied: pandas in /home/chukin/jupyter/jupyterenv/lib/python3.7/site-packages (1.0.3)\n",
      "Requirement already satisfied: numpy>=1.13.3 in /home/chukin/jupyter/jupyterenv/lib/python3.7/site-packages (from pandas) (1.18.1)\n",
      "Requirement already satisfied: python-dateutil>=2.6.1 in /home/chukin/jupyter/jupyterenv/lib/python3.7/site-packages (from pandas) (2.8.1)\n",
      "Requirement already satisfied: pytz>=2017.2 in /home/chukin/jupyter/jupyterenv/lib/python3.7/site-packages (from pandas) (2019.3)\n",
      "Requirement already satisfied: six>=1.5 in /home/chukin/jupyter/jupyterenv/lib/python3.7/site-packages (from python-dateutil>=2.6.1->pandas) (1.14.0)\n",
      "\u001b[33mWARNING: You are using pip version 20.1; however, version 20.1.1 is available.\n",
      "You should consider upgrading via the '/home/chukin/jupyter/jupyterenv/bin/python3 -m pip install --upgrade pip' command.\u001b[0m\n",
      "Requirement already satisfied: matplotlib in /home/chukin/jupyter/jupyterenv/lib/python3.7/site-packages (3.1.3)\n",
      "Requirement already satisfied: kiwisolver>=1.0.1 in /home/chukin/jupyter/jupyterenv/lib/python3.7/site-packages (from matplotlib) (1.1.0)\n",
      "Requirement already satisfied: pyparsing!=2.0.4,!=2.1.2,!=2.1.6,>=2.0.1 in /home/chukin/jupyter/jupyterenv/lib/python3.7/site-packages (from matplotlib) (2.4.6)\n",
      "Requirement already satisfied: numpy>=1.11 in /home/chukin/jupyter/jupyterenv/lib/python3.7/site-packages (from matplotlib) (1.18.1)\n",
      "Requirement already satisfied: cycler>=0.10 in /home/chukin/jupyter/jupyterenv/lib/python3.7/site-packages (from matplotlib) (0.10.0)\n",
      "Requirement already satisfied: python-dateutil>=2.1 in /home/chukin/jupyter/jupyterenv/lib/python3.7/site-packages (from matplotlib) (2.8.1)\n",
      "Requirement already satisfied: setuptools in /home/chukin/jupyter/jupyterenv/lib/python3.7/site-packages (from kiwisolver>=1.0.1->matplotlib) (45.1.0)\n",
      "Requirement already satisfied: six in /home/chukin/jupyter/jupyterenv/lib/python3.7/site-packages (from cycler>=0.10->matplotlib) (1.14.0)\n",
      "\u001b[33mWARNING: You are using pip version 20.1; however, version 20.1.1 is available.\n",
      "You should consider upgrading via the '/home/chukin/jupyter/jupyterenv/bin/python3 -m pip install --upgrade pip' command.\u001b[0m\n"
     ]
    }
   ],
   "source": [
    "!pip install pandas\n",
    "!pip install matplotlib"
   ]
  },
  {
   "cell_type": "code",
   "execution_count": 2,
   "metadata": {},
   "outputs": [
    {
     "data": {
      "text/html": [
       "<div>\n",
       "<style scoped>\n",
       "    .dataframe tbody tr th:only-of-type {\n",
       "        vertical-align: middle;\n",
       "    }\n",
       "\n",
       "    .dataframe tbody tr th {\n",
       "        vertical-align: top;\n",
       "    }\n",
       "\n",
       "    .dataframe thead th {\n",
       "        text-align: right;\n",
       "    }\n",
       "</style>\n",
       "<table border=\"1\" class=\"dataframe\">\n",
       "  <thead>\n",
       "    <tr style=\"text-align: right;\">\n",
       "      <th></th>\n",
       "      <th>date</th>\n",
       "      <th>tsi_1au</th>\n",
       "      <th>tsi_true_earth</th>\n",
       "    </tr>\n",
       "  </thead>\n",
       "  <tbody>\n",
       "    <tr>\n",
       "      <th>0</th>\n",
       "      <td>2003-02-25</td>\n",
       "      <td>1361.4919</td>\n",
       "      <td>1389.2020</td>\n",
       "    </tr>\n",
       "    <tr>\n",
       "      <th>1</th>\n",
       "      <td>2003-02-26</td>\n",
       "      <td>NaN</td>\n",
       "      <td>NaN</td>\n",
       "    </tr>\n",
       "    <tr>\n",
       "      <th>2</th>\n",
       "      <td>2003-02-27</td>\n",
       "      <td>1361.4594</td>\n",
       "      <td>1388.0933</td>\n",
       "    </tr>\n",
       "    <tr>\n",
       "      <th>3</th>\n",
       "      <td>2003-02-28</td>\n",
       "      <td>NaN</td>\n",
       "      <td>NaN</td>\n",
       "    </tr>\n",
       "    <tr>\n",
       "      <th>4</th>\n",
       "      <td>2003-03-01</td>\n",
       "      <td>NaN</td>\n",
       "      <td>NaN</td>\n",
       "    </tr>\n",
       "    <tr>\n",
       "      <th>...</th>\n",
       "      <td>...</td>\n",
       "      <td>...</td>\n",
       "      <td>...</td>\n",
       "    </tr>\n",
       "    <tr>\n",
       "      <th>6205</th>\n",
       "      <td>2020-02-21</td>\n",
       "      <td>1360.6522</td>\n",
       "      <td>1391.4950</td>\n",
       "    </tr>\n",
       "    <tr>\n",
       "      <th>6206</th>\n",
       "      <td>2020-02-22</td>\n",
       "      <td>1360.6277</td>\n",
       "      <td>1390.8318</td>\n",
       "    </tr>\n",
       "    <tr>\n",
       "      <th>6207</th>\n",
       "      <td>2020-02-23</td>\n",
       "      <td>1360.6259</td>\n",
       "      <td>1390.2261</td>\n",
       "    </tr>\n",
       "    <tr>\n",
       "      <th>6208</th>\n",
       "      <td>2020-02-24</td>\n",
       "      <td>1360.6316</td>\n",
       "      <td>1389.4974</td>\n",
       "    </tr>\n",
       "    <tr>\n",
       "      <th>6209</th>\n",
       "      <td>2020-02-25</td>\n",
       "      <td>1360.6093</td>\n",
       "      <td>1388.9204</td>\n",
       "    </tr>\n",
       "  </tbody>\n",
       "</table>\n",
       "<p>6210 rows × 3 columns</p>\n",
       "</div>"
      ],
      "text/plain": [
       "           date    tsi_1au  tsi_true_earth\n",
       "0    2003-02-25  1361.4919       1389.2020\n",
       "1    2003-02-26        NaN             NaN\n",
       "2    2003-02-27  1361.4594       1388.0933\n",
       "3    2003-02-28        NaN             NaN\n",
       "4    2003-03-01        NaN             NaN\n",
       "...         ...        ...             ...\n",
       "6205 2020-02-21  1360.6522       1391.4950\n",
       "6206 2020-02-22  1360.6277       1390.8318\n",
       "6207 2020-02-23  1360.6259       1390.2261\n",
       "6208 2020-02-24  1360.6316       1389.4974\n",
       "6209 2020-02-25  1360.6093       1388.9204\n",
       "\n",
       "[6210 rows x 3 columns]"
      ]
     },
     "execution_count": 2,
     "metadata": {},
     "output_type": "execute_result"
    }
   ],
   "source": [
    "# Import libraries\n",
    "import pandas as pd\n",
    "import matplotlib.pyplot as plt\n",
    "\n",
    "# Download Total Solar Irradiance Data\n",
    "df = pd.read_csv(\"tsi.csv\", parse_dates=[\"date\"])\n",
    "\n",
    "# Show All Data\n",
    "df"
   ]
  },
  {
   "cell_type": "markdown",
   "metadata": {},
   "source": [
    "## b) Plot Values of TSI at Distance of 1 au"
   ]
  },
  {
   "cell_type": "code",
   "execution_count": 3,
   "metadata": {},
   "outputs": [
    {
     "data": {
      "image/png": "[encoded data removed]",
      "text/plain": [
       "<Figure size 432x288 with 1 Axes>"
      ]
     },
     "metadata": {
      "needs_background": "light"
     },
     "output_type": "display_data"
    }
   ],
   "source": [
    "# Plot Data of TSI at Distance of 1 au\n",
    "plt.plot(df[\"date\"], df[\"tsi_1au\"], color=\"red\")\n",
    "plt.xlabel(\"Year\")\n",
    "plt.ylabel(\"TSI (W/m²)\")\n",
    "plt.show()\n",
    "plt.close()"
   ]
  },
  {
   "cell_type": "markdown",
   "metadata": {},
   "source": [
    "## c) Calculate Minimal, Mean, and Maximal Values of TSI at Distance of 1 au Distance"
   ]
  },
  {
   "cell_type": "code",
   "execution_count": 6,
   "metadata": {},
   "outputs": [
    {
     "name": "stdout",
     "output_type": "stream",
     "text": [
      "Minimal TSI:\t1357.0 W/m²\n",
      "Mean TSI:\t1360.9 W/m²\n",
      "Maximal TSI:\t1362.3 W/m²\n"
     ]
    }
   ],
   "source": [
    "# Calc Minimal, Mean, and Maximal Values of TSI at Distance of 1 au\n",
    "minTSI = df[\"tsi_1au\"].min()\n",
    "meanTSI = df[\"tsi_1au\"].mean()\n",
    "maxTSI = df[\"tsi_1au\"].max()\n",
    "\n",
    "# Print Min, Mean, and Max Values of TSI at 1 au\n",
    "print(\"Minimal TSI:\\t%.1f W/m²\" % minTSI)\n",
    "print(\"Mean TSI:\\t%.1f W/m²\" % meanTSI)\n",
    "print(\"Maximal TSI:\\t%.1f W/m²\" % maxTSI)"
   ]
  },
  {
   "cell_type": "markdown",
   "metadata": {},
   "source": [
    "## d) Plot TSI Values at the true Earth-to-Sun Distance"
   ]
  },
  {
   "cell_type": "code",
   "execution_count": null,
   "metadata": {},
   "outputs": [],
   "source": [
    "# Write code here..."
   ]
  },
  {
   "cell_type": "markdown",
   "metadata": {},
   "source": [
    "## e) Calculate Minimal, Mean, and Maximal Values of TSI at the true Earth-to-Sun Distance"
   ]
  },
  {
   "cell_type": "code",
   "execution_count": null,
   "metadata": {},
   "outputs": [],
   "source": [
    "# Write code here..."
   ]
  }
 ],
 "metadata": {
  "kernelspec": {
   "display_name": "Python 3",
   "language": "python",
   "name": "python3"
  },
  "language_info": {
   "codemirror_mode": {
    "name": "ipython",
    "version": 3
   },
   "file_extension": ".py",
   "mimetype": "text/x-python",
   "name": "python",
   "nbconvert_exporter": "python",
   "pygments_lexer": "ipython3",
   "version": "3.7.3"
  }
 },
 "nbformat": 4,
 "nbformat_minor": 4
}
