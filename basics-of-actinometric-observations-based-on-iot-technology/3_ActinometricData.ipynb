{
 "cells": [
  {
   "cell_type": "markdown",
   "metadata": {},
   "source": [
    "# Task #3. Actinometric Data Analysis"
   ]
  },
  {
   "cell_type": "code",
   "execution_count": null,
   "metadata": {},
   "outputs": [],
   "source": [
    "# Install libraries\n",
    "!pip install pandas\n",
    "!pip install numpy\n",
    "!pip install seaborn"
   ]
  },
  {
   "cell_type": "code",
   "execution_count": null,
   "metadata": {},
   "outputs": [],
   "source": [
    "# Import libraries\n",
    "import numpy as np\n",
    "import pandas as pd\n",
    "import seaborn as sns\n",
    "\n",
    "# Write your channel name\n",
    "channel = \"0ddd8e353faf1f61207f27dceb8f01084c39b22ead4b45e691a44691b6b2c942\"\n",
    "\n",
    "# Download data\n",
    "df = pd.read_csv(\"http://test.meteolab.ru:8080/api/solar/data/%s\"%channel, parse_dates=[\"date\"])\n",
    "\n",
    "# Show data\n",
    "df"
   ]
  },
  {
   "cell_type": "code",
   "execution_count": null,
   "metadata": {},
   "outputs": [],
   "source": [
    "# Plot data\n",
    "plot = sns.lineplot(data=df, x=\"timestamp\", y=\"airopacity\", palette=\"tab10\", linewidth=2.5)\n",
    "plot.get_figure().savefig(\"fugure.png\")"
   ]
  },
  {
   "cell_type": "code",
   "execution_count": null,
   "metadata": {},
   "outputs": [],
   "source": []
  }
 ],
 "metadata": {
  "kernelspec": {
   "display_name": "Python 3",
   "language": "python",
   "name": "python3"
  },
  "language_info": {
   "codemirror_mode": {
    "name": "ipython",
    "version": 3
   },
   "file_extension": ".py",
   "mimetype": "text/x-python",
   "name": "python",
   "nbconvert_exporter": "python",
   "pygments_lexer": "ipython3",
   "version": "3.7.3"
  }
 },
 "nbformat": 4,
 "nbformat_minor": 4
}
