{
 "cells": [
  {
   "cell_type": "markdown",
   "metadata": {},
   "source": [
    "# Task #2. Solar Altitude Data Analysis"
   ]
  },
  {
   "cell_type": "code",
   "execution_count": null,
   "metadata": {},
   "outputs": [],
   "source": [
    "# Install libraries\n",
    "!pip install pandas\n",
    "!pip install plotly"
   ]
  },
  {
   "cell_type": "code",
   "execution_count": null,
   "metadata": {},
   "outputs": [],
   "source": [
    "# Import libraries\n",
    "import pandas as pd\n",
    "import plotly.express as px\n",
    "\n",
    "# Set coordinates of the point of interest (degrees)\n",
    "lat = 60.0\n",
    "lon = 30.0\n",
    "\n",
    "# Set date\n",
    "year = 2020\n",
    "month = 7\n",
    "day = 28\n",
    "\n",
    "# Download data\n",
    "df = pd.read_csv(\"http://test.meteolab.ru:8080/api/solar/diurnalcycle/%f/%f/%d/%d/%d\"%(lat,lon,year,month,day), parse_dates=[\"date\"])\n",
    "\n",
    "# Show data\n",
    "df"
   ]
  },
  {
   "cell_type": "code",
   "execution_count": null,
   "metadata": {},
   "outputs": [],
   "source": [
    "# Plot data\n",
    "fig = px.line(df, x=\"date\", y=\"solaraltitude\", title=\"Solar Altitude Diurnal Cycle\")\n",
    "fig.show()"
   ]
  },
  {
   "cell_type": "code",
   "execution_count": null,
   "metadata": {},
   "outputs": [],
   "source": []
  }
 ],
 "metadata": {
  "kernelspec": {
   "display_name": "Python 3",
   "language": "python",
   "name": "python3"
  },
  "language_info": {
   "codemirror_mode": {
    "name": "ipython",
    "version": 3
   },
   "file_extension": ".py",
   "mimetype": "text/x-python",
   "name": "python",
   "nbconvert_exporter": "python",
   "pygments_lexer": "ipython3",
   "version": "3.7.3"
  }
 },
 "nbformat": 4,
 "nbformat_minor": 4
}
