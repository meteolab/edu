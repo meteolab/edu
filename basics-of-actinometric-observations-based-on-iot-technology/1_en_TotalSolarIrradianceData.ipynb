{
 "cells": [
  {
   "cell_type": "markdown",
   "metadata": {},
   "source": [
    "# Task #1. Total Solar Irradiance Data Analysis"
   ]
  },
  {
   "cell_type": "markdown",
   "metadata": {},
   "source": [
    "### Data Source\n",
    "The SORCE Total Irradiance Monitor (TIM) measures the total solar irradiance (TSI), a measure of the absolute intensity of solar radiation integrated over the entire solar disk and the entire solar spectrum. The SORCE Level 3 TSI data product is the daily mean irradiances, reported at both a mean solar distance of 1 astronomical unit (AU) and at the true Earth-to-Sun distance of date, and zero relative line-of-sight velocity with respect to the Sun. This product respectively indicates emitted solar radiation variability (useful for solar studies) and the solar energy input to the top of the Earth's atmosphere (useful for Earth climate studies).\n",
    "\n",
    "Source: http://lasp.colorado.edu/data/sorce/tsi_data/daily/sorce_tsi_L3_c24h_latest.txt\n",
    "\n",
    "### Order of the task\n",
    "Follow steps a), b), c) in sequence. Then complete the steps d), and e)."
   ]
  },
  {
   "cell_type": "markdown",
   "metadata": {},
   "source": [
    "## a) Load Total Solar Irradiance Data"
   ]
  },
  {
   "cell_type": "code",
   "execution_count": null,
   "metadata": {},
   "outputs": [],
   "source": [
    "# Import libraries\n",
    "import pandas as pd\n",
    "import seaborn as sns\n",
    "import matplotlib.pyplot as plt\n",
    "\n",
    "# Download Total Solar Irradiance Data\n",
    "df = pd.read_csv(\"tsi.csv\", parse_dates=[\"date\"])\n",
    "\n",
    "# Show All Data\n",
    "df"
   ]
  },
  {
   "cell_type": "markdown",
   "metadata": {},
   "source": [
    "## b) Plot Values of TSI at Distance of 1 au"
   ]
  },
  {
   "cell_type": "code",
   "execution_count": null,
   "metadata": {},
   "outputs": [],
   "source": [
    "# Plot data\n",
    "sns.set(font_scale=1.4, style=\"darkgrid\", rc={\"figure.figsize\":(11.7,8.27)})\n",
    "sns.lineplot(x=df[\"date\"], y=df[\"tsi_1au\"], color=\"red\")\n",
    "plt.title(\"Total Solar Irradiance\")\n",
    "plt.xlabel(\"Date\")\n",
    "plt.ylabel(\"TSI (W/m²)\")\n",
    "plt.show()"
   ]
  },
  {
   "cell_type": "markdown",
   "metadata": {},
   "source": [
    "## c) Calculate Minimal, Mean, and Maximal Values of TSI at Distance of 1 au Distance"
   ]
  },
  {
   "cell_type": "code",
   "execution_count": null,
   "metadata": {},
   "outputs": [],
   "source": [
    "# Calc Minimal, Mean, and Maximal Values of TSI at Distance of 1 au\n",
    "minTSI = df[\"tsi_1au\"].min()\n",
    "meanTSI = df[\"tsi_1au\"].mean()\n",
    "maxTSI = df[\"tsi_1au\"].max()\n",
    "\n",
    "# Print Min, Mean, and Max Values of TSI at 1 au\n",
    "print(\"Minimal TSI:\\t%.1f W/m²\" % minTSI)\n",
    "print(\"Mean TSI:\\t%.1f W/m²\" % meanTSI)\n",
    "print(\"Maximal TSI:\\t%.1f W/m²\" % maxTSI)"
   ]
  },
  {
   "cell_type": "markdown",
   "metadata": {},
   "source": [
    "## d) Plot TSI Values at the true Earth-to-Sun Distance"
   ]
  },
  {
   "cell_type": "code",
   "execution_count": null,
   "metadata": {},
   "outputs": [],
   "source": [
    "# Write code here..."
   ]
  },
  {
   "cell_type": "markdown",
   "metadata": {},
   "source": [
    "## e) Calculate Minimal, Mean, and Maximal Values of TSI at the true Earth-to-Sun Distance"
   ]
  },
  {
   "cell_type": "code",
   "execution_count": null,
   "metadata": {},
   "outputs": [],
   "source": [
    "# Write code here..."
   ]
  }
 ],
 "metadata": {
  "kernelspec": {
   "display_name": "Python 3",
   "language": "python",
   "name": "python3"
  },
  "language_info": {
   "codemirror_mode": {
    "name": "ipython",
    "version": 3
   },
   "file_extension": ".py",
   "mimetype": "text/x-python",
   "name": "python",
   "nbconvert_exporter": "python",
   "pygments_lexer": "ipython3",
   "version": "3.7.3"
  }
 },
 "nbformat": 4,
 "nbformat_minor": 4
}
