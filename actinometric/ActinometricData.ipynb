import pandas as pd
import matplotlib.pyplot as plt

# Download data
df = pd.read_csv("http://localhost:3000/api/solar/getdata/e802a980b90a9de") #, parse_dates=["time"])

plt.plot(df["time"], df["solaraltitude"], color="blue")
plt.show()
plt.close()

df
